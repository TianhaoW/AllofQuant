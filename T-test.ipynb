{
 "cells": [
  {
   "cell_type": "markdown",
   "source": [
    "# T-test and T-distribution\n",
    "### T-distribution\n",
    "A T-distribution with $v$-degree of freedoms is defined by \n",
    "$$T = \\frac{Z}{\\sqrt{V/v}}$$\n",
    "where $Z$ is a standard normal distribution, and $V$ is a chi-square distribution with $v$-degree of freedoms. It looks very similar to a normal distribution.\n",
    "\n",
    "### T-test\n",
    "Let $X_1,\\ldots, X_n$ be independent random variables sampled from a normal distribution $N(\\mu, \\sigma^2)$. We would like to perform the following hypothesis test\n",
    "$$H_0: \\mu = \\mu_0$$\n",
    "\n",
    "The $t$-statistics is defined as \n",
    "$$t = \\frac{\\overline{X}-\\mu_0}{s/\\sqrt{n}} = \\frac{\\overline{X}-\\mu_0}{\\sigma/\\sqrt{n}}/\\frac{s}{\\sigma}$$\n",
    "\n",
    "The term $\\frac{\\overline{X}-\\mu_0}{\\sigma/\\sqrt{n}}$ is the standard normal distribution under the null-hypothesis, and $s/\\sigma = \\sqrt{\\frac{1}{n-1}\\sum_1^n\\frac{(X_i-\\overline{X})^2}{\\sigma^2}}$ where $\\sum_1^n\\frac{(X_i-\\overline{X})^2}{\\sigma^2}$ is a chi-square distribution with $n-1$ degree of freedom (Cochran's theorem).\n",
    "\n",
    "The t-test is not sensitive to the normality assumption as long as the sample size is large."
   ],
   "metadata": {
    "collapsed": false
   },
   "id": "f00d32d480dcd4a3"
  },
  {
   "cell_type": "code",
   "outputs": [
    {
     "name": "stdout",
     "output_type": "stream",
     "text": [
      "The estimator for mu is 0.1959\n",
      "The t statistic is 2.1731\n",
      "The p value for the t-test is 0.0151\n"
     ]
    }
   ],
   "source": [
    "import numpy as np\n",
    "import scipy.stats as stats\n",
    "\n",
    "sample_size = 500\n",
    "mu = 0.2\n",
    "sigma = 2\n",
    "\n",
    "# generate the random sequence X from a normal distribution\n",
    "rng = np.random.default_rng()\n",
    "X = rng.normal(mu, sigma, sample_size)\n",
    "X_mean = X.mean()\n",
    "\n",
    "s = np.sqrt(((X-X_mean) ** 2).sum()/(sample_size - 1))\n",
    "t = X_mean/(s/np.sqrt(sample_size))\n",
    "print(f\"The estimator for mu is {X_mean:.4f}\")\n",
    "print(f\"The t statistic is {t:.4f}\")\n",
    "p = 1 - stats.t.cdf(t, df = sample_size - 1)\n",
    "print(f\"The p value for the t-test is {p:.4f}\")"
   ],
   "metadata": {
    "collapsed": false,
    "ExecuteTime": {
     "end_time": "2024-12-02T23:34:13.356266Z",
     "start_time": "2024-12-02T23:34:13.349537Z"
    }
   },
   "id": "c149aa7c079131ff",
   "execution_count": 26
  },
  {
   "cell_type": "code",
   "outputs": [
    {
     "name": "stdout",
     "output_type": "stream",
     "text": [
      "The estimator for mu is 0.2414\n",
      "The t statistic is 1.8519\n",
      "The p value for the t-test is 0.0323\n"
     ]
    }
   ],
   "source": [
    "# Another example where X is not sampled from a normal distribution\n",
    "sample_size = 500\n",
    "\n",
    "# generate the random sequence X from a non-normal distribution\n",
    "rng = np.random.default_rng()\n",
    "X = 10 * rng.random(sample_size) - 4.9\n",
    "X_mean = X.mean()\n",
    "\n",
    "s = np.sqrt(((X-X_mean) ** 2).sum()/(sample_size - 1))\n",
    "t = X_mean/(s/np.sqrt(sample_size))\n",
    "print(f\"The estimator for mu is {X_mean:.4f}\")\n",
    "print(f\"The t statistic is {t:.4f}\")\n",
    "p = 1 - stats.t.cdf(t, df = sample_size - 1)\n",
    "print(f\"The p value for the t-test is {p:.4f}\")"
   ],
   "metadata": {
    "collapsed": false,
    "ExecuteTime": {
     "end_time": "2024-12-02T23:50:46.243032Z",
     "start_time": "2024-12-02T23:50:46.233430Z"
    }
   },
   "id": "c4660fed9fd611ad",
   "execution_count": 28
  }
 ],
 "metadata": {
  "kernelspec": {
   "display_name": "Python 3",
   "language": "python",
   "name": "python3"
  },
  "language_info": {
   "codemirror_mode": {
    "name": "ipython",
    "version": 2
   },
   "file_extension": ".py",
   "mimetype": "text/x-python",
   "name": "python",
   "nbconvert_exporter": "python",
   "pygments_lexer": "ipython2",
   "version": "2.7.6"
  }
 },
 "nbformat": 4,
 "nbformat_minor": 5
}
