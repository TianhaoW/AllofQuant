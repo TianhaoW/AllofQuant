{
 "cells": [
  {
   "cell_type": "markdown",
   "source": [
    "# Git and Github"
   ],
   "metadata": {
    "collapsed": false
   },
   "id": "39a1b3adae0b1752"
  },
  {
   "cell_type": "markdown",
   "source": [
    "### Working Directory\n",
    "### Staging Area\n",
    "### Local Repo\n",
    "### Remote Repo\n",
    "\n",
    "### HEAD\n",
    "The most recent commit\n",
    "HEAD~: The previous commit (HEAD~2 means two version before the current commit)"
   ],
   "metadata": {
    "collapsed": false
   },
   "id": "83de3899ce6fa723"
  },
  {
   "cell_type": "markdown",
   "source": [
    "### git Status\n",
    "### git log (--oneline)\n",
    "### git add\n",
    "This will add changes to the staging ares. Even if you deleted a file in working directory, you also need to use git add to stage this change in staging area\n",
    "### git commit -m \"message\"\n",
    "This will push the changes to the local repo \n",
    "### git reset --soft/--hard/--mixed   \n",
    "soft will not reset the working directory nor staging area\n",
    "hard will rest both the working directory and staging area\n",
    "mixed will only reset the staging area, which is also the default command\n",
    "### git diff\n",
    "By default, this will tell the difference between the working directory and staging area"
   ],
   "metadata": {
    "collapsed": false
   },
   "id": "1a13b313d3a2f6fb"
  },
  {
   "cell_type": "markdown",
   "source": [
    "### gitignore\n"
   ],
   "metadata": {
    "collapsed": false
   },
   "id": "fdf3d735cd2b8144"
  },
  {
   "cell_type": "code",
   "outputs": [],
   "source": [],
   "metadata": {
    "collapsed": false
   },
   "id": "8616b98e5664977f"
  }
 ],
 "metadata": {
  "kernelspec": {
   "display_name": "Python 3",
   "language": "python",
   "name": "python3"
  },
  "language_info": {
   "codemirror_mode": {
    "name": "ipython",
    "version": 2
   },
   "file_extension": ".py",
   "mimetype": "text/x-python",
   "name": "python",
   "nbconvert_exporter": "python",
   "pygments_lexer": "ipython2",
   "version": "2.7.6"
  }
 },
 "nbformat": 4,
 "nbformat_minor": 5
}
